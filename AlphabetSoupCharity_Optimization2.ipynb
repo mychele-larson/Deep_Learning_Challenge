{
  "nbformat": 4,
  "nbformat_minor": 0,
  "metadata": {
    "colab": {
      "provenance": [],
      "authorship_tag": "ABX9TyPoso7Oqc/n2vxyrK4yuniv",
      "include_colab_link": true
    },
    "kernelspec": {
      "name": "python3",
      "display_name": "Python 3"
    },
    "language_info": {
      "name": "python"
    }
  },
  "cells": [
    {
      "cell_type": "markdown",
      "metadata": {
        "id": "view-in-github",
        "colab_type": "text"
      },
      "source": [
        "<a href=\"https://colab.research.google.com/github/mychele-larson/Deep_Learning_Challenge/blob/main/AlphabetSoupCharity_Optimization2.ipynb\" target=\"_parent\"><img src=\"https://colab.research.google.com/assets/colab-badge.svg\" alt=\"Open In Colab\"/></a>"
      ]
    },
    {
      "cell_type": "code",
      "execution_count": null,
      "metadata": {
        "id": "6AI7cU-C61ur"
      },
      "outputs": [],
      "source": [
        "!pip install keras-tuner --upgrade\n",
        "# Import our dependencies\n",
        "import os\n",
        "from sklearn.model_selection import train_test_split\n",
        "from sklearn.preprocessing import StandardScaler\n",
        "import pandas as pd\n",
        "from sklearn import __SKLEARN_SETUP__\n",
        "import tensorflow as tf\n",
        "from tensorflow import keras\n",
        "from keras.models import Sequential\n",
        "from keras.layers import Dense, Dropout, Activation, Flatten\n",
        "from keras.utils import np_utils\n",
        "import matplotlib.pyplot as plt\n",
        "import warnings\n",
        "warnings.filterwarnings('ignore')\n",
        "from google.colab import drive\n",
        "drive.mount('/content/drive')\n",
        "csv_path = '/content/drive/MyDrive/UTSA_Homework/Resources/charity_data.csv'\n",
        "\n",
        "#  Import and read the charity_data.csv.\n",
        "application_df = pd.read_csv(csv_path)\n",
        "application_df.head()"
      ]
    },
    {
      "cell_type": "code",
      "source": [
        "# Drop the non-beneficial ID columns, 'EIN' and 'NAME'.\n",
        "application_df = application_df.drop(columns=['EIN', 'NAME'], axis=1)\n",
        "application_df.head()\n"
      ],
      "metadata": {
        "id": "kZIfx9Lo7ZwA"
      },
      "execution_count": null,
      "outputs": []
    },
    {
      "cell_type": "code",
      "source": [
        "# Determine the number of unique values in each column.\n",
        "application_df.nunique()\n"
      ],
      "metadata": {
        "id": "nudgTFYa7aAl"
      },
      "execution_count": null,
      "outputs": []
    },
    {
      "cell_type": "code",
      "source": [
        "# Look at APPLICATION_TYPE value counts for binning\n",
        "app_counts = application_df['APPLICATION_TYPE'].value_counts()\n",
        "app_counts\n"
      ],
      "metadata": {
        "id": "EpXKlkgT7aEQ"
      },
      "execution_count": null,
      "outputs": []
    },
    {
      "cell_type": "code",
      "source": [
        "# Choose a cutoff value and create a list of application types to be replaced\n",
        "application_types_to_replace = list(app_counts[app_counts < 500].index)\n",
        "\n",
        "# Replace in dataframe\n",
        "for app in application_types_to_replace:\n",
        "    application_df['APPLICATION_TYPE'] = application_df['APPLICATION_TYPE'].replace(\n",
        "        app, \"Other\")\n",
        "\n",
        "# Check to make sure binning was successful\n",
        "application_df['APPLICATION_TYPE'].value_counts()\n"
      ],
      "metadata": {
        "id": "rcop1XuW7aHp"
      },
      "execution_count": null,
      "outputs": []
    },
    {
      "cell_type": "code",
      "source": [
        "# Look at CLASSIFICATION value counts for binning\n",
        "class_counts = application_df['CLASSIFICATION'].value_counts()\n",
        "class_counts\n"
      ],
      "metadata": {
        "id": "BsczjzWJ7aKu"
      },
      "execution_count": null,
      "outputs": []
    },
    {
      "cell_type": "code",
      "source": [
        "# You may find it helpful to look at CLASSIFICATION value counts >1\n",
        "class_counts_gt1 = class_counts.loc[class_counts > 1]\n",
        "class_counts_gt1.head()\n"
      ],
      "metadata": {
        "id": "A3tvfj2k7aOB"
      },
      "execution_count": null,
      "outputs": []
    },
    {
      "cell_type": "code",
      "source": [
        "# Choose a cutoff value and create a list of classifications to be replaced\n",
        "classifications_to_replace = list(class_counts[class_counts < 1000].index)\n",
        "\n",
        "# Replace in dataframe\n",
        "for cls in classifications_to_replace:\n",
        "    application_df['CLASSIFICATION'] = application_df['CLASSIFICATION'].replace(\n",
        "        cls, \"Other\")\n",
        "\n",
        "# Check to make sure binning was successful\n",
        "application_df['CLASSIFICATION'].value_counts()\n"
      ],
      "metadata": {
        "id": "UA9bvoPP94kL"
      },
      "execution_count": null,
      "outputs": []
    },
    {
      "cell_type": "code",
      "source": [
        "features = application_df.shape[1]\n",
        "print(\"Number of features:\", features)"
      ],
      "metadata": {
        "id": "c-ffAxbaFxAc"
      },
      "execution_count": null,
      "outputs": []
    },
    {
      "cell_type": "code",
      "source": [
        "# Convert categorical data to numeric with `pd.get_dummies`\n",
        "application_numeric = pd.get_dummies(application_df)\n",
        "application_numeric.head()\n"
      ],
      "metadata": {
        "id": "lLD3-GMR94nb"
      },
      "execution_count": null,
      "outputs": []
    },
    {
      "cell_type": "code",
      "source": [
        "# Split our preprocessed data into our features and target arrays\n",
        "X = application_numeric.drop(['IS_SUCCESSFUL'], axis=1)\n",
        "y = application_numeric['IS_SUCCESSFUL']\n",
        "\n",
        "# Split the preprocessed data into a training and testing dataset\n",
        "X_train, X_test, y_train, y_test = train_test_split(X, y, random_state=58)\n"
      ],
      "metadata": {
        "id": "gKQzUnto94qT"
      },
      "execution_count": null,
      "outputs": []
    },
    {
      "cell_type": "code",
      "source": [
        "# Create a StandardScaler instances\n",
        "scaler = StandardScaler()\n",
        "\n",
        "# Fit the StandardScaler\n",
        "X_scaler = scaler.fit(X_train)\n",
        "\n",
        "# Scale the data\n",
        "X_train_scaled = X_scaler.transform(X_train)\n",
        "X_test_scaled = X_scaler.transform(X_test)\n"
      ],
      "metadata": {
        "id": "sbld9z4g94tC"
      },
      "execution_count": null,
      "outputs": []
    },
    {
      "cell_type": "markdown",
      "source": [
        "## Compile, Train and Evaluate the Model"
      ],
      "metadata": {
        "id": "oeBYC7-l-Eij"
      }
    },
    {
      "cell_type": "code",
      "source": [
        "# Create a method that creats a new Sequential model with hyperparameter options\n",
        "def create_model(hp):\n",
        "    nn_model_2 = tf.keras.models.Sequential()\n",
        "\n",
        "    # Allow kerastuner to devide which activation function to use in hidden layers\n",
        "    activation = hp.Choice('activation', ['relu', 'tanh'])\n",
        "\n",
        "    # Allow kerastuner to decide number of neurons in first layer\n",
        "    nn_model_2.add(tf.keras.layers.Dense(units=hp.Int('first_units', \n",
        "        min_value=1,\n",
        "        max_value=30,\n",
        "        step=5), activation=activation, input_shape=(43,)))\n",
        "    \n",
        "    # Allow kerastuner to decide number of hidden layers and neurons to add to hidden layers\n",
        "    for i in range(hp.Int('num_layers', 1, 5)):\n",
        "        nn_model_2.add(tf.keras.layers.Dense(units=hp.Int('units_' + str(i),\n",
        "            min_value=1,\n",
        "            max_value=30,\n",
        "            step=5),\n",
        "            activation=activation))\n",
        "        \n",
        "    nn_model_2.add(tf.keras.layers.Dense(units=1, activation='sigmoid'))\n",
        "\n",
        "    # Compile the model\n",
        "    nn_model_2.compile(loss='binary_crossentropy', optimizer='adam', metrics=['accuracy'])\n",
        "\n",
        "    return nn_model_2\n",
        "\n",
        "# Create a kerastuner\n",
        "import keras_tuner as kt\n",
        "\n",
        "tuner = kt.Hyperband(create_model,\n",
        "        objective='val_accuracy',\n",
        "        max_epochs=30,\n",
        "        hyperband_iterations=3)\n",
        "                     \n",
        "# Search for the best hyperparameters\n",
        "tuner.search(X_train_scaled, y_train, epochs=30, validation_data=(X_test_scaled,y_test))\n",
        "\n",
        "# Get the best hyperparameters\n",
        "best_hps = tuner.get_best_hyperparameters(num_trials=1)[0]\n",
        "\n",
        "# Build the model with the best hyperparameters\n",
        "model_2 = create_model(best_hps)\n",
        "\n",
        "# Train the model\n",
        "fit_model = model_2.fit(X_train_scaled, y_train, epochs=20)\n",
        "\n"
      ],
      "metadata": {
        "id": "ma2TgjR9941I"
      },
      "execution_count": null,
      "outputs": []
    },
    {
      "cell_type": "code",
      "source": [
        "# Run the kerastuner search for the best hyperparameters\n",
        "tuner.search(X_train_scaled,y_train,epochs=20,validation_data=(X_test_scaled, y_test))"
      ],
      "metadata": {
        "id": "V4s4pRoV-OXC"
      },
      "execution_count": null,
      "outputs": []
    },
    {
      "cell_type": "code",
      "source": [
        "# Get best model hyperparameters\n",
        "best_hyper = tuner.get_best_hyperparameters(1)[0]\n",
        "for param in best_hyper:\n",
        "    print(param.values)\n"
      ],
      "metadata": {
        "id": "jMuWLUGh-Oa7"
      },
      "execution_count": null,
      "outputs": []
    },
    {
      "cell_type": "code",
      "source": [
        "# Build the model with the best hyperparameters\n",
        "model_2 = create_model(best_hps)\n"
      ],
      "metadata": {
        "id": "5RDifM21DlZc"
      },
      "execution_count": null,
      "outputs": []
    },
    {
      "cell_type": "code",
      "source": [
        "# Train the model\n",
        "fit_model = model_2.fit(X_train_scaled, y_train, epochs=20)"
      ],
      "metadata": {
        "id": "HgIOthaLDlkr"
      },
      "execution_count": null,
      "outputs": []
    },
    {
      "cell_type": "code",
      "source": [
        "# Evaluate best model against full test data\n",
        "model_2 = tuner.get_best_models(1)[0]\n",
        "model_loss, model_accuracy = model_2.evaluate(X_test_scaled, y_test, verbose=2)\n",
        "print(f'Loss: {model_loss}, Accuracy: {model_accuracy}')"
      ],
      "metadata": {
        "id": "hmg746v6Dx52"
      },
      "execution_count": null,
      "outputs": []
    },
    {
      "cell_type": "code",
      "source": [
        "# Export our model to HDF5 file\n",
        "# Define the filename\n",
        "filename = '/content/drive/MyDrive/UTSA_Homework/Model_H5/AlphabetSoupCharity_Optimization.h5'\n",
        "\n",
        "# Save the model to a HDF5 file\n",
        "model_2.save(filename)\n"
      ],
      "metadata": {
        "id": "6ziuM2Fi-Od-"
      },
      "execution_count": null,
      "outputs": []
    },
    {
      "cell_type": "code",
      "source": [],
      "metadata": {
        "id": "Mw1ZcELy-Ogp"
      },
      "execution_count": null,
      "outputs": []
    },
    {
      "cell_type": "code",
      "source": [],
      "metadata": {
        "id": "2kRGY4KF-OjV"
      },
      "execution_count": null,
      "outputs": []
    },
    {
      "cell_type": "code",
      "source": [],
      "metadata": {
        "id": "uN1odmtY-OmP"
      },
      "execution_count": null,
      "outputs": []
    }
  ]
}